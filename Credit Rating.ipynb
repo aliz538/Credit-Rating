{
 "cells": [
  {
   "cell_type": "code",
   "execution_count": 1,
   "id": "3cfe301d",
   "metadata": {},
   "outputs": [],
   "source": [
    "!pip install opendatasets -q"
   ]
  },
  {
   "cell_type": "code",
   "execution_count": 7,
   "id": "602b5a79",
   "metadata": {},
   "outputs": [
    {
     "name": "stdout",
     "output_type": "stream",
     "text": [
      "Please provide your Kaggle credentials to download this dataset. Learn more: http://bit.ly/kaggle-creds\n",
      "Your Kaggle username: alizrz\n",
      "Your Kaggle Key: ········\n",
      "Downloading corporate-credit-rating.zip to .\\corporate-credit-rating\n"
     ]
    },
    {
     "name": "stderr",
     "output_type": "stream",
     "text": [
      "100%|██████████| 299k/299k [00:00<00:00, 6.14MB/s]"
     ]
    },
    {
     "name": "stdout",
     "output_type": "stream",
     "text": [
      "\n"
     ]
    },
    {
     "name": "stderr",
     "output_type": "stream",
     "text": [
      "\n"
     ]
    }
   ],
   "source": [
    "import opendatasets as od\n",
    "od.download(\"https://www.kaggle.com/agewerc/corporate-credit-rating\")"
   ]
  },
  {
   "cell_type": "code",
   "execution_count": 57,
   "id": "b7506d47",
   "metadata": {},
   "outputs": [],
   "source": [
    "import pandas as pd\n",
    "import numpy as np\n",
    "from numpy import loadtxt\n",
    "from numpy import sort\n",
    "import matplotlib.pyplot as plt\n",
    "%matplotlib inline\n",
    "from matplotlib.ticker import PercentFormatter\n",
    "import matplotlib.ticker as mtick\n",
    "from random import sample\n",
    "import seaborn as sns\n",
    "import xgboost as xgb\n",
    "from xgboost import XGBClassifier\n",
    "from sklearn.svm import LinearSVC\n",
    "from sklearn.metrics import classification_report\n",
    "from sklearn import metrics\n",
    "from sklearn import preprocessing\n",
    "from sklearn.metrics import accuracy_score\n",
    "from sklearn.datasets import make_classification\n",
    "from sklearn.ensemble import GradientBoostingClassifier\n",
    "from sklearn.model_selection import train_test_split\n",
    "from sklearn.neural_network import MLPClassifier\n",
    "from sklearn.tree import DecisionTreeClassifier\n",
    "from sklearn.ensemble import RandomForestClassifier , AdaBoostClassifier\n",
    "from sklearn.discriminant_analysis import LinearDiscriminantAnalysis\n",
    "from sklearn.discriminant_analysis import QuadraticDiscriminantAnalysis\n",
    "from sklearn.utils import resample\n",
    "from sklearn.model_selection import StratifiedShuffleSplit\n",
    "from sklearn.metrics import confusion_matrix\n",
    "from sklearn.pipeline import Pipeline\n",
    "from sklearn.compose import ColumnTransformer\n",
    "from sklearn.preprocessing import StandardScaler, OneHotEncoder\n",
    "from sklearn.decomposition import PCA\n",
    "from sklearn.naive_bayes import GaussianNB\n",
    "from sklearn.neighbors import KNeighborsClassifier\n",
    "from sklearn.linear_model import LogisticRegression\n",
    "from sklearn.model_selection import GridSearchCV\n",
    "from sklearn.model_selection import StratifiedKFold ,cross_val_score\n",
    "from sklearn.preprocessing import LabelEncoder\n",
    "from sklearn.model_selection import train_test_split\n",
    "from sklearn.metrics import accuracy_score\n",
    "from sklearn.feature_selection import SelectFromModel"
   ]
  },
  {
   "cell_type": "code",
   "execution_count": 29,
   "id": "135fd8a2",
   "metadata": {},
   "outputs": [],
   "source": [
    "# import warnings filter\n",
    "from warnings import simplefilter\n",
    "# ignore all future warnings\n",
    "simplefilter(action='ignore', category=FutureWarning)"
   ]
  },
  {
   "cell_type": "code",
   "execution_count": 10,
   "id": "088c4b0c",
   "metadata": {},
   "outputs": [],
   "source": [
    "Dataset=pd.read_csv(\"corporate-credit-rating\\corporate_rating.csv\")"
   ]
  },
  {
   "cell_type": "code",
   "execution_count": 11,
   "id": "72a76b90",
   "metadata": {
    "scrolled": true
   },
   "outputs": [
    {
     "data": {
      "text/html": [
       "<div>\n",
       "<style scoped>\n",
       "    .dataframe tbody tr th:only-of-type {\n",
       "        vertical-align: middle;\n",
       "    }\n",
       "\n",
       "    .dataframe tbody tr th {\n",
       "        vertical-align: top;\n",
       "    }\n",
       "\n",
       "    .dataframe thead th {\n",
       "        text-align: right;\n",
       "    }\n",
       "</style>\n",
       "<table border=\"1\" class=\"dataframe\">\n",
       "  <thead>\n",
       "    <tr style=\"text-align: right;\">\n",
       "      <th></th>\n",
       "      <th>Rating</th>\n",
       "      <th>Name</th>\n",
       "      <th>Symbol</th>\n",
       "      <th>Rating Agency Name</th>\n",
       "      <th>Date</th>\n",
       "      <th>Sector</th>\n",
       "      <th>currentRatio</th>\n",
       "      <th>quickRatio</th>\n",
       "      <th>cashRatio</th>\n",
       "      <th>daysOfSalesOutstanding</th>\n",
       "      <th>...</th>\n",
       "      <th>effectiveTaxRate</th>\n",
       "      <th>freeCashFlowOperatingCashFlowRatio</th>\n",
       "      <th>freeCashFlowPerShare</th>\n",
       "      <th>cashPerShare</th>\n",
       "      <th>companyEquityMultiplier</th>\n",
       "      <th>ebitPerRevenue</th>\n",
       "      <th>enterpriseValueMultiple</th>\n",
       "      <th>operatingCashFlowPerShare</th>\n",
       "      <th>operatingCashFlowSalesRatio</th>\n",
       "      <th>payablesTurnover</th>\n",
       "    </tr>\n",
       "  </thead>\n",
       "  <tbody>\n",
       "    <tr>\n",
       "      <th>0</th>\n",
       "      <td>A</td>\n",
       "      <td>Whirlpool Corporation</td>\n",
       "      <td>WHR</td>\n",
       "      <td>Egan-Jones Ratings Company</td>\n",
       "      <td>11/27/2015</td>\n",
       "      <td>Consumer Durables</td>\n",
       "      <td>0.945894</td>\n",
       "      <td>0.426395</td>\n",
       "      <td>0.099690</td>\n",
       "      <td>44.203245</td>\n",
       "      <td>...</td>\n",
       "      <td>0.202716</td>\n",
       "      <td>0.437551</td>\n",
       "      <td>6.810673</td>\n",
       "      <td>9.809403</td>\n",
       "      <td>4.008012</td>\n",
       "      <td>0.049351</td>\n",
       "      <td>7.057088</td>\n",
       "      <td>15.565438</td>\n",
       "      <td>0.058638</td>\n",
       "      <td>3.906655</td>\n",
       "    </tr>\n",
       "    <tr>\n",
       "      <th>1</th>\n",
       "      <td>BBB</td>\n",
       "      <td>Whirlpool Corporation</td>\n",
       "      <td>WHR</td>\n",
       "      <td>Egan-Jones Ratings Company</td>\n",
       "      <td>2/13/2014</td>\n",
       "      <td>Consumer Durables</td>\n",
       "      <td>1.033559</td>\n",
       "      <td>0.498234</td>\n",
       "      <td>0.203120</td>\n",
       "      <td>38.991156</td>\n",
       "      <td>...</td>\n",
       "      <td>0.074155</td>\n",
       "      <td>0.541997</td>\n",
       "      <td>8.625473</td>\n",
       "      <td>17.402270</td>\n",
       "      <td>3.156783</td>\n",
       "      <td>0.048857</td>\n",
       "      <td>6.460618</td>\n",
       "      <td>15.914250</td>\n",
       "      <td>0.067239</td>\n",
       "      <td>4.002846</td>\n",
       "    </tr>\n",
       "    <tr>\n",
       "      <th>2</th>\n",
       "      <td>BBB</td>\n",
       "      <td>Whirlpool Corporation</td>\n",
       "      <td>WHR</td>\n",
       "      <td>Fitch Ratings</td>\n",
       "      <td>3/6/2015</td>\n",
       "      <td>Consumer Durables</td>\n",
       "      <td>0.963703</td>\n",
       "      <td>0.451505</td>\n",
       "      <td>0.122099</td>\n",
       "      <td>50.841385</td>\n",
       "      <td>...</td>\n",
       "      <td>0.214529</td>\n",
       "      <td>0.513185</td>\n",
       "      <td>9.693487</td>\n",
       "      <td>13.103448</td>\n",
       "      <td>4.094575</td>\n",
       "      <td>0.044334</td>\n",
       "      <td>10.491970</td>\n",
       "      <td>18.888889</td>\n",
       "      <td>0.074426</td>\n",
       "      <td>3.483510</td>\n",
       "    </tr>\n",
       "    <tr>\n",
       "      <th>3</th>\n",
       "      <td>BBB</td>\n",
       "      <td>Whirlpool Corporation</td>\n",
       "      <td>WHR</td>\n",
       "      <td>Fitch Ratings</td>\n",
       "      <td>6/15/2012</td>\n",
       "      <td>Consumer Durables</td>\n",
       "      <td>1.019851</td>\n",
       "      <td>0.510402</td>\n",
       "      <td>0.176116</td>\n",
       "      <td>41.161738</td>\n",
       "      <td>...</td>\n",
       "      <td>1.816667</td>\n",
       "      <td>-0.147170</td>\n",
       "      <td>-1.015625</td>\n",
       "      <td>14.440104</td>\n",
       "      <td>3.630950</td>\n",
       "      <td>-0.012858</td>\n",
       "      <td>4.080741</td>\n",
       "      <td>6.901042</td>\n",
       "      <td>0.028394</td>\n",
       "      <td>4.581150</td>\n",
       "    </tr>\n",
       "    <tr>\n",
       "      <th>4</th>\n",
       "      <td>BBB</td>\n",
       "      <td>Whirlpool Corporation</td>\n",
       "      <td>WHR</td>\n",
       "      <td>Standard &amp; Poor's Ratings Services</td>\n",
       "      <td>10/24/2016</td>\n",
       "      <td>Consumer Durables</td>\n",
       "      <td>0.957844</td>\n",
       "      <td>0.495432</td>\n",
       "      <td>0.141608</td>\n",
       "      <td>47.761126</td>\n",
       "      <td>...</td>\n",
       "      <td>0.166966</td>\n",
       "      <td>0.451372</td>\n",
       "      <td>7.135348</td>\n",
       "      <td>14.257556</td>\n",
       "      <td>4.012780</td>\n",
       "      <td>0.053770</td>\n",
       "      <td>8.293505</td>\n",
       "      <td>15.808147</td>\n",
       "      <td>0.058065</td>\n",
       "      <td>3.857790</td>\n",
       "    </tr>\n",
       "  </tbody>\n",
       "</table>\n",
       "<p>5 rows × 31 columns</p>\n",
       "</div>"
      ],
      "text/plain": [
       "  Rating                   Name Symbol                  Rating Agency Name  \\\n",
       "0      A  Whirlpool Corporation    WHR          Egan-Jones Ratings Company   \n",
       "1    BBB  Whirlpool Corporation    WHR          Egan-Jones Ratings Company   \n",
       "2    BBB  Whirlpool Corporation    WHR                       Fitch Ratings   \n",
       "3    BBB  Whirlpool Corporation    WHR                       Fitch Ratings   \n",
       "4    BBB  Whirlpool Corporation    WHR  Standard & Poor's Ratings Services   \n",
       "\n",
       "         Date             Sector  currentRatio  quickRatio  cashRatio  \\\n",
       "0  11/27/2015  Consumer Durables      0.945894    0.426395   0.099690   \n",
       "1   2/13/2014  Consumer Durables      1.033559    0.498234   0.203120   \n",
       "2    3/6/2015  Consumer Durables      0.963703    0.451505   0.122099   \n",
       "3   6/15/2012  Consumer Durables      1.019851    0.510402   0.176116   \n",
       "4  10/24/2016  Consumer Durables      0.957844    0.495432   0.141608   \n",
       "\n",
       "   daysOfSalesOutstanding  ...  effectiveTaxRate  \\\n",
       "0               44.203245  ...          0.202716   \n",
       "1               38.991156  ...          0.074155   \n",
       "2               50.841385  ...          0.214529   \n",
       "3               41.161738  ...          1.816667   \n",
       "4               47.761126  ...          0.166966   \n",
       "\n",
       "   freeCashFlowOperatingCashFlowRatio  freeCashFlowPerShare  cashPerShare  \\\n",
       "0                            0.437551              6.810673      9.809403   \n",
       "1                            0.541997              8.625473     17.402270   \n",
       "2                            0.513185              9.693487     13.103448   \n",
       "3                           -0.147170             -1.015625     14.440104   \n",
       "4                            0.451372              7.135348     14.257556   \n",
       "\n",
       "   companyEquityMultiplier  ebitPerRevenue  enterpriseValueMultiple  \\\n",
       "0                 4.008012        0.049351                 7.057088   \n",
       "1                 3.156783        0.048857                 6.460618   \n",
       "2                 4.094575        0.044334                10.491970   \n",
       "3                 3.630950       -0.012858                 4.080741   \n",
       "4                 4.012780        0.053770                 8.293505   \n",
       "\n",
       "   operatingCashFlowPerShare  operatingCashFlowSalesRatio  payablesTurnover  \n",
       "0                  15.565438                     0.058638          3.906655  \n",
       "1                  15.914250                     0.067239          4.002846  \n",
       "2                  18.888889                     0.074426          3.483510  \n",
       "3                   6.901042                     0.028394          4.581150  \n",
       "4                  15.808147                     0.058065          3.857790  \n",
       "\n",
       "[5 rows x 31 columns]"
      ]
     },
     "execution_count": 11,
     "metadata": {},
     "output_type": "execute_result"
    }
   ],
   "source": [
    "Dataset.head()"
   ]
  },
  {
   "cell_type": "code",
   "execution_count": 12,
   "id": "227dc491",
   "metadata": {},
   "outputs": [
    {
     "name": "stdout",
     "output_type": "stream",
     "text": [
      "<class 'pandas.core.frame.DataFrame'>\n",
      "RangeIndex: 2029 entries, 0 to 2028\n",
      "Data columns (total 31 columns):\n",
      " #   Column                              Non-Null Count  Dtype  \n",
      "---  ------                              --------------  -----  \n",
      " 0   Rating                              2029 non-null   object \n",
      " 1   Name                                2029 non-null   object \n",
      " 2   Symbol                              2029 non-null   object \n",
      " 3   Rating Agency Name                  2029 non-null   object \n",
      " 4   Date                                2029 non-null   object \n",
      " 5   Sector                              2029 non-null   object \n",
      " 6   currentRatio                        2029 non-null   float64\n",
      " 7   quickRatio                          2029 non-null   float64\n",
      " 8   cashRatio                           2029 non-null   float64\n",
      " 9   daysOfSalesOutstanding              2029 non-null   float64\n",
      " 10  netProfitMargin                     2029 non-null   float64\n",
      " 11  pretaxProfitMargin                  2029 non-null   float64\n",
      " 12  grossProfitMargin                   2029 non-null   float64\n",
      " 13  operatingProfitMargin               2029 non-null   float64\n",
      " 14  returnOnAssets                      2029 non-null   float64\n",
      " 15  returnOnCapitalEmployed             2029 non-null   float64\n",
      " 16  returnOnEquity                      2029 non-null   float64\n",
      " 17  assetTurnover                       2029 non-null   float64\n",
      " 18  fixedAssetTurnover                  2029 non-null   float64\n",
      " 19  debtEquityRatio                     2029 non-null   float64\n",
      " 20  debtRatio                           2029 non-null   float64\n",
      " 21  effectiveTaxRate                    2029 non-null   float64\n",
      " 22  freeCashFlowOperatingCashFlowRatio  2029 non-null   float64\n",
      " 23  freeCashFlowPerShare                2029 non-null   float64\n",
      " 24  cashPerShare                        2029 non-null   float64\n",
      " 25  companyEquityMultiplier             2029 non-null   float64\n",
      " 26  ebitPerRevenue                      2029 non-null   float64\n",
      " 27  enterpriseValueMultiple             2029 non-null   float64\n",
      " 28  operatingCashFlowPerShare           2029 non-null   float64\n",
      " 29  operatingCashFlowSalesRatio         2029 non-null   float64\n",
      " 30  payablesTurnover                    2029 non-null   float64\n",
      "dtypes: float64(25), object(6)\n",
      "memory usage: 491.5+ KB\n"
     ]
    }
   ],
   "source": [
    "Dataset.info()"
   ]
  },
  {
   "cell_type": "code",
   "execution_count": 14,
   "id": "fa05434f",
   "metadata": {},
   "outputs": [
    {
     "data": {
      "text/plain": [
       "(2029, 31)"
      ]
     },
     "execution_count": 14,
     "metadata": {},
     "output_type": "execute_result"
    }
   ],
   "source": [
    "Dataset.shape"
   ]
  },
  {
   "cell_type": "code",
   "execution_count": 16,
   "id": "fab4ca52",
   "metadata": {},
   "outputs": [],
   "source": [
    "Dataset['Date'] = pd.to_datetime(Dataset['Date'])\n",
    "Dataset['Year'] = Dataset['Date'].dt.year"
   ]
  },
  {
   "cell_type": "code",
   "execution_count": 18,
   "id": "4e6cbf68",
   "metadata": {},
   "outputs": [
    {
     "data": {
      "text/plain": [
       "Rating                                0\n",
       "Name                                  0\n",
       "Symbol                                0\n",
       "Rating Agency Name                    0\n",
       "Date                                  0\n",
       "Sector                                0\n",
       "currentRatio                          0\n",
       "quickRatio                            0\n",
       "cashRatio                             0\n",
       "daysOfSalesOutstanding                0\n",
       "netProfitMargin                       0\n",
       "pretaxProfitMargin                    0\n",
       "grossProfitMargin                     0\n",
       "operatingProfitMargin                 0\n",
       "returnOnAssets                        0\n",
       "returnOnCapitalEmployed               0\n",
       "returnOnEquity                        0\n",
       "assetTurnover                         0\n",
       "fixedAssetTurnover                    0\n",
       "debtEquityRatio                       0\n",
       "debtRatio                             0\n",
       "effectiveTaxRate                      0\n",
       "freeCashFlowOperatingCashFlowRatio    0\n",
       "freeCashFlowPerShare                  0\n",
       "cashPerShare                          0\n",
       "companyEquityMultiplier               0\n",
       "ebitPerRevenue                        0\n",
       "enterpriseValueMultiple               0\n",
       "operatingCashFlowPerShare             0\n",
       "operatingCashFlowSalesRatio           0\n",
       "payablesTurnover                      0\n",
       "Year                                  0\n",
       "dtype: int64"
      ]
     },
     "execution_count": 18,
     "metadata": {},
     "output_type": "execute_result"
    }
   ],
   "source": [
    "Dataset.isnull().sum()"
   ]
  },
  {
   "cell_type": "code",
   "execution_count": 19,
   "id": "5b2adfb0",
   "metadata": {},
   "outputs": [
    {
     "data": {
      "text/html": [
       "<div>\n",
       "<style scoped>\n",
       "    .dataframe tbody tr th:only-of-type {\n",
       "        vertical-align: middle;\n",
       "    }\n",
       "\n",
       "    .dataframe tbody tr th {\n",
       "        vertical-align: top;\n",
       "    }\n",
       "\n",
       "    .dataframe thead th {\n",
       "        text-align: right;\n",
       "    }\n",
       "</style>\n",
       "<table border=\"1\" class=\"dataframe\">\n",
       "  <thead>\n",
       "    <tr style=\"text-align: right;\">\n",
       "      <th></th>\n",
       "      <th>currentRatio</th>\n",
       "      <th>quickRatio</th>\n",
       "      <th>cashRatio</th>\n",
       "      <th>daysOfSalesOutstanding</th>\n",
       "      <th>netProfitMargin</th>\n",
       "      <th>pretaxProfitMargin</th>\n",
       "      <th>grossProfitMargin</th>\n",
       "      <th>operatingProfitMargin</th>\n",
       "      <th>returnOnAssets</th>\n",
       "      <th>returnOnCapitalEmployed</th>\n",
       "      <th>...</th>\n",
       "      <th>freeCashFlowOperatingCashFlowRatio</th>\n",
       "      <th>freeCashFlowPerShare</th>\n",
       "      <th>cashPerShare</th>\n",
       "      <th>companyEquityMultiplier</th>\n",
       "      <th>ebitPerRevenue</th>\n",
       "      <th>enterpriseValueMultiple</th>\n",
       "      <th>operatingCashFlowPerShare</th>\n",
       "      <th>operatingCashFlowSalesRatio</th>\n",
       "      <th>payablesTurnover</th>\n",
       "      <th>Year</th>\n",
       "    </tr>\n",
       "  </thead>\n",
       "  <tbody>\n",
       "    <tr>\n",
       "      <th>count</th>\n",
       "      <td>2029.000000</td>\n",
       "      <td>2029.000000</td>\n",
       "      <td>2029.000000</td>\n",
       "      <td>2029.000000</td>\n",
       "      <td>2029.000000</td>\n",
       "      <td>2029.000000</td>\n",
       "      <td>2029.000000</td>\n",
       "      <td>2029.000000</td>\n",
       "      <td>2029.000000</td>\n",
       "      <td>2029.000000</td>\n",
       "      <td>...</td>\n",
       "      <td>2029.000000</td>\n",
       "      <td>2.029000e+03</td>\n",
       "      <td>2.029000e+03</td>\n",
       "      <td>2029.000000</td>\n",
       "      <td>2029.000000</td>\n",
       "      <td>2029.000000</td>\n",
       "      <td>2.029000e+03</td>\n",
       "      <td>2029.000000</td>\n",
       "      <td>2029.000000</td>\n",
       "      <td>2029.000000</td>\n",
       "    </tr>\n",
       "    <tr>\n",
       "      <th>mean</th>\n",
       "      <td>3.529607</td>\n",
       "      <td>2.653986</td>\n",
       "      <td>0.667364</td>\n",
       "      <td>333.795606</td>\n",
       "      <td>0.278447</td>\n",
       "      <td>0.431483</td>\n",
       "      <td>0.497968</td>\n",
       "      <td>0.587322</td>\n",
       "      <td>-37.517928</td>\n",
       "      <td>-73.974193</td>\n",
       "      <td>...</td>\n",
       "      <td>0.409550</td>\n",
       "      <td>5.094719e+03</td>\n",
       "      <td>4.227549e+03</td>\n",
       "      <td>3.323579</td>\n",
       "      <td>0.437454</td>\n",
       "      <td>48.287985</td>\n",
       "      <td>6.515123e+03</td>\n",
       "      <td>1.447653</td>\n",
       "      <td>38.002718</td>\n",
       "      <td>2014.042385</td>\n",
       "    </tr>\n",
       "    <tr>\n",
       "      <th>std</th>\n",
       "      <td>44.052361</td>\n",
       "      <td>32.944817</td>\n",
       "      <td>3.583943</td>\n",
       "      <td>4447.839583</td>\n",
       "      <td>6.064134</td>\n",
       "      <td>8.984982</td>\n",
       "      <td>0.525307</td>\n",
       "      <td>11.224622</td>\n",
       "      <td>1166.172220</td>\n",
       "      <td>2350.275719</td>\n",
       "      <td>...</td>\n",
       "      <td>3.796488</td>\n",
       "      <td>1.469156e+05</td>\n",
       "      <td>1.224000e+05</td>\n",
       "      <td>87.529866</td>\n",
       "      <td>8.984299</td>\n",
       "      <td>529.118961</td>\n",
       "      <td>1.775290e+05</td>\n",
       "      <td>19.483294</td>\n",
       "      <td>758.923588</td>\n",
       "      <td>1.522409</td>\n",
       "    </tr>\n",
       "    <tr>\n",
       "      <th>min</th>\n",
       "      <td>-0.932005</td>\n",
       "      <td>-1.893266</td>\n",
       "      <td>-0.192736</td>\n",
       "      <td>-811.845623</td>\n",
       "      <td>-101.845815</td>\n",
       "      <td>-124.343612</td>\n",
       "      <td>-14.800817</td>\n",
       "      <td>-124.343612</td>\n",
       "      <td>-40213.178290</td>\n",
       "      <td>-87162.162160</td>\n",
       "      <td>...</td>\n",
       "      <td>-120.916010</td>\n",
       "      <td>-4.912742e+03</td>\n",
       "      <td>-1.915035e+01</td>\n",
       "      <td>-2555.419643</td>\n",
       "      <td>-124.343612</td>\n",
       "      <td>-3749.921337</td>\n",
       "      <td>-1.195049e+04</td>\n",
       "      <td>-4.461837</td>\n",
       "      <td>-76.662850</td>\n",
       "      <td>2005.000000</td>\n",
       "    </tr>\n",
       "    <tr>\n",
       "      <th>25%</th>\n",
       "      <td>1.071930</td>\n",
       "      <td>0.602825</td>\n",
       "      <td>0.130630</td>\n",
       "      <td>22.905093</td>\n",
       "      <td>0.021006</td>\n",
       "      <td>0.025649</td>\n",
       "      <td>0.233127</td>\n",
       "      <td>0.044610</td>\n",
       "      <td>0.019176</td>\n",
       "      <td>0.028112</td>\n",
       "      <td>...</td>\n",
       "      <td>0.271478</td>\n",
       "      <td>4.119924e-01</td>\n",
       "      <td>1.566038e+00</td>\n",
       "      <td>2.046822</td>\n",
       "      <td>0.028057</td>\n",
       "      <td>6.238066</td>\n",
       "      <td>2.356735e+00</td>\n",
       "      <td>0.073886</td>\n",
       "      <td>2.205912</td>\n",
       "      <td>2013.000000</td>\n",
       "    </tr>\n",
       "    <tr>\n",
       "      <th>50%</th>\n",
       "      <td>1.493338</td>\n",
       "      <td>0.985679</td>\n",
       "      <td>0.297493</td>\n",
       "      <td>42.374120</td>\n",
       "      <td>0.064753</td>\n",
       "      <td>0.084965</td>\n",
       "      <td>0.414774</td>\n",
       "      <td>0.107895</td>\n",
       "      <td>0.045608</td>\n",
       "      <td>0.074421</td>\n",
       "      <td>...</td>\n",
       "      <td>0.644529</td>\n",
       "      <td>2.131742e+00</td>\n",
       "      <td>3.686513e+00</td>\n",
       "      <td>2.652456</td>\n",
       "      <td>0.087322</td>\n",
       "      <td>9.274398</td>\n",
       "      <td>4.352584e+00</td>\n",
       "      <td>0.133050</td>\n",
       "      <td>5.759722</td>\n",
       "      <td>2014.000000</td>\n",
       "    </tr>\n",
       "    <tr>\n",
       "      <th>75%</th>\n",
       "      <td>2.166891</td>\n",
       "      <td>1.453820</td>\n",
       "      <td>0.624906</td>\n",
       "      <td>59.323563</td>\n",
       "      <td>0.114807</td>\n",
       "      <td>0.144763</td>\n",
       "      <td>0.849693</td>\n",
       "      <td>0.176181</td>\n",
       "      <td>0.077468</td>\n",
       "      <td>0.135036</td>\n",
       "      <td>...</td>\n",
       "      <td>0.836949</td>\n",
       "      <td>4.230253e+00</td>\n",
       "      <td>8.086152e+00</td>\n",
       "      <td>3.658331</td>\n",
       "      <td>0.149355</td>\n",
       "      <td>12.911759</td>\n",
       "      <td>7.319759e+00</td>\n",
       "      <td>0.240894</td>\n",
       "      <td>9.480892</td>\n",
       "      <td>2015.000000</td>\n",
       "    </tr>\n",
       "    <tr>\n",
       "      <th>max</th>\n",
       "      <td>1725.505005</td>\n",
       "      <td>1139.541703</td>\n",
       "      <td>125.917417</td>\n",
       "      <td>115961.637400</td>\n",
       "      <td>198.517873</td>\n",
       "      <td>309.694856</td>\n",
       "      <td>2.702533</td>\n",
       "      <td>410.182214</td>\n",
       "      <td>0.487826</td>\n",
       "      <td>2.439504</td>\n",
       "      <td>...</td>\n",
       "      <td>34.594086</td>\n",
       "      <td>5.753380e+06</td>\n",
       "      <td>4.786803e+06</td>\n",
       "      <td>2562.871795</td>\n",
       "      <td>309.694856</td>\n",
       "      <td>11153.607090</td>\n",
       "      <td>6.439270e+06</td>\n",
       "      <td>688.526591</td>\n",
       "      <td>20314.880400</td>\n",
       "      <td>2016.000000</td>\n",
       "    </tr>\n",
       "  </tbody>\n",
       "</table>\n",
       "<p>8 rows × 26 columns</p>\n",
       "</div>"
      ],
      "text/plain": [
       "       currentRatio   quickRatio    cashRatio  daysOfSalesOutstanding  \\\n",
       "count   2029.000000  2029.000000  2029.000000             2029.000000   \n",
       "mean       3.529607     2.653986     0.667364              333.795606   \n",
       "std       44.052361    32.944817     3.583943             4447.839583   \n",
       "min       -0.932005    -1.893266    -0.192736             -811.845623   \n",
       "25%        1.071930     0.602825     0.130630               22.905093   \n",
       "50%        1.493338     0.985679     0.297493               42.374120   \n",
       "75%        2.166891     1.453820     0.624906               59.323563   \n",
       "max     1725.505005  1139.541703   125.917417           115961.637400   \n",
       "\n",
       "       netProfitMargin  pretaxProfitMargin  grossProfitMargin  \\\n",
       "count      2029.000000         2029.000000        2029.000000   \n",
       "mean          0.278447            0.431483           0.497968   \n",
       "std           6.064134            8.984982           0.525307   \n",
       "min        -101.845815         -124.343612         -14.800817   \n",
       "25%           0.021006            0.025649           0.233127   \n",
       "50%           0.064753            0.084965           0.414774   \n",
       "75%           0.114807            0.144763           0.849693   \n",
       "max         198.517873          309.694856           2.702533   \n",
       "\n",
       "       operatingProfitMargin  returnOnAssets  returnOnCapitalEmployed  ...  \\\n",
       "count            2029.000000     2029.000000              2029.000000  ...   \n",
       "mean                0.587322      -37.517928               -73.974193  ...   \n",
       "std                11.224622     1166.172220              2350.275719  ...   \n",
       "min              -124.343612   -40213.178290            -87162.162160  ...   \n",
       "25%                 0.044610        0.019176                 0.028112  ...   \n",
       "50%                 0.107895        0.045608                 0.074421  ...   \n",
       "75%                 0.176181        0.077468                 0.135036  ...   \n",
       "max               410.182214        0.487826                 2.439504  ...   \n",
       "\n",
       "       freeCashFlowOperatingCashFlowRatio  freeCashFlowPerShare  cashPerShare  \\\n",
       "count                         2029.000000          2.029000e+03  2.029000e+03   \n",
       "mean                             0.409550          5.094719e+03  4.227549e+03   \n",
       "std                              3.796488          1.469156e+05  1.224000e+05   \n",
       "min                           -120.916010         -4.912742e+03 -1.915035e+01   \n",
       "25%                              0.271478          4.119924e-01  1.566038e+00   \n",
       "50%                              0.644529          2.131742e+00  3.686513e+00   \n",
       "75%                              0.836949          4.230253e+00  8.086152e+00   \n",
       "max                             34.594086          5.753380e+06  4.786803e+06   \n",
       "\n",
       "       companyEquityMultiplier  ebitPerRevenue  enterpriseValueMultiple  \\\n",
       "count              2029.000000     2029.000000              2029.000000   \n",
       "mean                  3.323579        0.437454                48.287985   \n",
       "std                  87.529866        8.984299               529.118961   \n",
       "min               -2555.419643     -124.343612             -3749.921337   \n",
       "25%                   2.046822        0.028057                 6.238066   \n",
       "50%                   2.652456        0.087322                 9.274398   \n",
       "75%                   3.658331        0.149355                12.911759   \n",
       "max                2562.871795      309.694856             11153.607090   \n",
       "\n",
       "       operatingCashFlowPerShare  operatingCashFlowSalesRatio  \\\n",
       "count               2.029000e+03                  2029.000000   \n",
       "mean                6.515123e+03                     1.447653   \n",
       "std                 1.775290e+05                    19.483294   \n",
       "min                -1.195049e+04                    -4.461837   \n",
       "25%                 2.356735e+00                     0.073886   \n",
       "50%                 4.352584e+00                     0.133050   \n",
       "75%                 7.319759e+00                     0.240894   \n",
       "max                 6.439270e+06                   688.526591   \n",
       "\n",
       "       payablesTurnover         Year  \n",
       "count       2029.000000  2029.000000  \n",
       "mean          38.002718  2014.042385  \n",
       "std          758.923588     1.522409  \n",
       "min          -76.662850  2005.000000  \n",
       "25%            2.205912  2013.000000  \n",
       "50%            5.759722  2014.000000  \n",
       "75%            9.480892  2015.000000  \n",
       "max        20314.880400  2016.000000  \n",
       "\n",
       "[8 rows x 26 columns]"
      ]
     },
     "execution_count": 19,
     "metadata": {},
     "output_type": "execute_result"
    }
   ],
   "source": [
    "Dataset.describe()"
   ]
  },
  {
   "cell_type": "code",
   "execution_count": 31,
   "id": "4dbd0435",
   "metadata": {},
   "outputs": [
    {
     "data": {
      "text/plain": [
       "BBB    671\n",
       "BB     490\n",
       "A      398\n",
       "B      302\n",
       "AA      89\n",
       "CCC     64\n",
       "AAA      7\n",
       "CC       5\n",
       "C        2\n",
       "D        1\n",
       "Name: Rating, dtype: int64"
      ]
     },
     "execution_count": 31,
     "metadata": {},
     "output_type": "execute_result"
    }
   ],
   "source": [
    "Dataset[\"Rating\"].value_counts()"
   ]
  },
  {
   "cell_type": "code",
   "execution_count": 43,
   "id": "29ba3a69",
   "metadata": {},
   "outputs": [
    {
     "data": {
      "text/plain": [
       "<AxesSubplot:title={'center':'Count of Rating by Type'}>"
      ]
     },
     "execution_count": 43,
     "metadata": {},
     "output_type": "execute_result"
    },
    {
     "data": {
      "image/png": "[encoded data removed]",
      "text/plain": [
       "<Figure size 576x288 with 1 Axes>"
      ]
     },
     "metadata": {
      "needs_background": "light"
     },
     "output_type": "display_data"
    }
   ],
   "source": [
    "Dataset['Rating'].value_counts().plot(kind='bar',\n",
    "                                             figsize=(8,4),\n",
    "                                             title=\"Count of Rating by Type\",\n",
    "                                             grid=True)"
   ]
  },
  {
   "cell_type": "code",
   "execution_count": 22,
   "id": "9f906bfc",
   "metadata": {},
   "outputs": [
    {
     "data": {
      "text/plain": [
       "<AxesSubplot:xlabel='Rating', ylabel='freeCashFlowPerShare'>"
      ]
     },
     "execution_count": 22,
     "metadata": {},
     "output_type": "execute_result"
    },
    {
     "data": {
      "image/png": "[encoded data removed]",
      "text/plain": [
       "<Figure size 432x288 with 1 Axes>"
      ]
     },
     "metadata": {
      "needs_background": "light"
     },
     "output_type": "display_data"
    }
   ],
   "source": [
    "Dataset.plot(kind=\"scatter\", x=\"Rating\", y=\"freeCashFlowPerShare\")"
   ]
  },
  {
   "cell_type": "code",
   "execution_count": 26,
   "id": "80e35930",
   "metadata": {},
   "outputs": [],
   "source": [
    "Max_index=Dataset[Dataset[\"daysOfSalesOutstanding\"]==Dataset[\"daysOfSalesOutstanding\"].max()].index"
   ]
  },
  {
   "cell_type": "code",
   "execution_count": 34,
   "id": "17726cd2",
   "metadata": {},
   "outputs": [],
   "source": [
    "Dataset_final=Dataset.drop([\"Name\",\"Symbol\",\"Date\"], axis=1)"
   ]
  },
  {
   "cell_type": "code",
   "execution_count": null,
   "id": "7b57d7d5",
   "metadata": {},
   "outputs": [],
   "source": [
    "# Drawing Boxplots\n",
    "\n",
    "figure, axes = plt.subplots(nrows=8, ncols=3, figsize=(20,44))\n",
    "\n",
    "i = 0 \n",
    "j = 0\n",
    "\n",
    "for c in Dataset_final.columns[6:30]:\n",
    "    \n",
    "    sns.boxplot(x=Dataset_final.Rating, y=Dataset_final[c], palette=\"Set3\", ax=axes[i, j])\n",
    "    \n",
    "    if j == 2:\n",
    "        j=0\n",
    "        i+=1\n",
    "    else:\n",
    "        j+=1   "
   ]
  },
  {
   "cell_type": "code",
   "execution_count": 42,
   "id": "38364ae8",
   "metadata": {},
   "outputs": [
    {
     "name": "stdout",
     "output_type": "stream",
     "text": [
      " Training (1623, 28), Testing (406, 28) \n"
     ]
    }
   ],
   "source": [
    "X=Dataset_final.drop(\"Rating\", axis=1)\n",
    "y=Dataset_final[\"Rating\"]\n",
    "X_train, X_test, y_train, y_test = train_test_split(X, y, test_size=0.2, random_state=42)\n",
    "print(f' Training {X_train.shape}, Testing {X_test.shape} ')"
   ]
  },
  {
   "cell_type": "code",
   "execution_count": 46,
   "id": "ba8bc95e",
   "metadata": {},
   "outputs": [
    {
     "data": {
      "text/plain": [
       "Index(['Rating', 'Rating Agency Name', 'Sector', 'currentRatio', 'quickRatio',\n",
       "       'cashRatio', 'daysOfSalesOutstanding', 'netProfitMargin',\n",
       "       'pretaxProfitMargin', 'grossProfitMargin', 'operatingProfitMargin',\n",
       "       'returnOnAssets', 'returnOnCapitalEmployed', 'returnOnEquity',\n",
       "       'assetTurnover', 'fixedAssetTurnover', 'debtEquityRatio', 'debtRatio',\n",
       "       'effectiveTaxRate', 'freeCashFlowOperatingCashFlowRatio',\n",
       "       'freeCashFlowPerShare', 'cashPerShare', 'companyEquityMultiplier',\n",
       "       'ebitPerRevenue', 'enterpriseValueMultiple',\n",
       "       'operatingCashFlowPerShare', 'operatingCashFlowSalesRatio',\n",
       "       'payablesTurnover', 'Year'],\n",
       "      dtype='object')"
      ]
     },
     "execution_count": 46,
     "metadata": {},
     "output_type": "execute_result"
    }
   ],
   "source": [
    "Dataset_final.columns"
   ]
  },
  {
   "cell_type": "code",
   "execution_count": 47,
   "id": "588719c4",
   "metadata": {},
   "outputs": [],
   "source": [
    "num_attr=['currentRatio', 'quickRatio',\n",
    "       'cashRatio', 'daysOfSalesOutstanding', 'netProfitMargin',\n",
    "       'pretaxProfitMargin', 'grossProfitMargin', 'operatingProfitMargin',\n",
    "       'returnOnAssets', 'returnOnCapitalEmployed', 'returnOnEquity',\n",
    "       'assetTurnover', 'fixedAssetTurnover', 'debtEquityRatio', 'debtRatio',\n",
    "       'effectiveTaxRate', 'freeCashFlowOperatingCashFlowRatio',\n",
    "       'freeCashFlowPerShare', 'cashPerShare', 'companyEquityMultiplier',\n",
    "       'ebitPerRevenue', 'enterpriseValueMultiple',\n",
    "       'operatingCashFlowPerShare', 'operatingCashFlowSalesRatio',\n",
    "       'payablesTurnover']\n",
    "\n",
    "cat_attr=['Rating Agency Name', 'Sector','Year']"
   ]
  },
  {
   "cell_type": "code",
   "execution_count": 49,
   "id": "58b43fd0",
   "metadata": {},
   "outputs": [],
   "source": [
    "full_pipe=ColumnTransformer([\n",
    "    ('num', StandardScaler(), num_attr),\n",
    "    ('cat', OneHotEncoder(sparse=False, categories='auto'), cat_attr)],\n",
    "        remainder='passthrough'\n",
    ")\n",
    "\n",
    "X_train_prepared=full_pipe.fit_transform(X_train)"
   ]
  },
  {
   "cell_type": "code",
   "execution_count": 50,
   "id": "d83b1e5c",
   "metadata": {},
   "outputs": [
    {
     "data": {
      "text/html": [
       "<div>\n",
       "<style scoped>\n",
       "    .dataframe tbody tr th:only-of-type {\n",
       "        vertical-align: middle;\n",
       "    }\n",
       "\n",
       "    .dataframe tbody tr th {\n",
       "        vertical-align: top;\n",
       "    }\n",
       "\n",
       "    .dataframe thead th {\n",
       "        text-align: right;\n",
       "    }\n",
       "</style>\n",
       "<table border=\"1\" class=\"dataframe\">\n",
       "  <thead>\n",
       "    <tr style=\"text-align: right;\">\n",
       "      <th></th>\n",
       "      <th>0</th>\n",
       "      <th>1</th>\n",
       "      <th>2</th>\n",
       "      <th>3</th>\n",
       "      <th>4</th>\n",
       "      <th>5</th>\n",
       "      <th>6</th>\n",
       "      <th>7</th>\n",
       "      <th>8</th>\n",
       "      <th>9</th>\n",
       "      <th>...</th>\n",
       "      <th>41</th>\n",
       "      <th>42</th>\n",
       "      <th>43</th>\n",
       "      <th>44</th>\n",
       "      <th>45</th>\n",
       "      <th>46</th>\n",
       "      <th>47</th>\n",
       "      <th>48</th>\n",
       "      <th>49</th>\n",
       "      <th>50</th>\n",
       "    </tr>\n",
       "  </thead>\n",
       "  <tbody>\n",
       "    <tr>\n",
       "      <th>0</th>\n",
       "      <td>-0.031483</td>\n",
       "      <td>-0.039094</td>\n",
       "      <td>-0.125981</td>\n",
       "      <td>-0.056074</td>\n",
       "      <td>-0.032077</td>\n",
       "      <td>-0.043400</td>\n",
       "      <td>-0.126706</td>\n",
       "      <td>-0.044158</td>\n",
       "      <td>0.026440</td>\n",
       "      <td>0.025998</td>\n",
       "      <td>...</td>\n",
       "      <td>0.0</td>\n",
       "      <td>0.0</td>\n",
       "      <td>0.0</td>\n",
       "      <td>0.0</td>\n",
       "      <td>0.0</td>\n",
       "      <td>0.0</td>\n",
       "      <td>0.0</td>\n",
       "      <td>0.0</td>\n",
       "      <td>1.0</td>\n",
       "      <td>0.0</td>\n",
       "    </tr>\n",
       "    <tr>\n",
       "      <th>1</th>\n",
       "      <td>0.002199</td>\n",
       "      <td>0.048480</td>\n",
       "      <td>0.423362</td>\n",
       "      <td>-0.062357</td>\n",
       "      <td>-0.004186</td>\n",
       "      <td>-0.018849</td>\n",
       "      <td>-0.004204</td>\n",
       "      <td>-0.028059</td>\n",
       "      <td>0.026649</td>\n",
       "      <td>0.026180</td>\n",
       "      <td>...</td>\n",
       "      <td>0.0</td>\n",
       "      <td>0.0</td>\n",
       "      <td>0.0</td>\n",
       "      <td>0.0</td>\n",
       "      <td>0.0</td>\n",
       "      <td>1.0</td>\n",
       "      <td>0.0</td>\n",
       "      <td>0.0</td>\n",
       "      <td>0.0</td>\n",
       "      <td>0.0</td>\n",
       "    </tr>\n",
       "    <tr>\n",
       "      <th>2</th>\n",
       "      <td>-0.053438</td>\n",
       "      <td>-0.061954</td>\n",
       "      <td>-0.137045</td>\n",
       "      <td>-0.063257</td>\n",
       "      <td>-0.036491</td>\n",
       "      <td>-0.038913</td>\n",
       "      <td>0.906410</td>\n",
       "      <td>-0.044885</td>\n",
       "      <td>0.026437</td>\n",
       "      <td>0.026115</td>\n",
       "      <td>...</td>\n",
       "      <td>0.0</td>\n",
       "      <td>0.0</td>\n",
       "      <td>0.0</td>\n",
       "      <td>0.0</td>\n",
       "      <td>0.0</td>\n",
       "      <td>0.0</td>\n",
       "      <td>1.0</td>\n",
       "      <td>0.0</td>\n",
       "      <td>0.0</td>\n",
       "      <td>0.0</td>\n",
       "    </tr>\n",
       "    <tr>\n",
       "      <th>3</th>\n",
       "      <td>-0.049886</td>\n",
       "      <td>-0.053419</td>\n",
       "      <td>-0.090425</td>\n",
       "      <td>-0.061182</td>\n",
       "      <td>-0.024828</td>\n",
       "      <td>-0.028935</td>\n",
       "      <td>-0.196298</td>\n",
       "      <td>-0.035643</td>\n",
       "      <td>0.026481</td>\n",
       "      <td>0.026103</td>\n",
       "      <td>...</td>\n",
       "      <td>0.0</td>\n",
       "      <td>0.0</td>\n",
       "      <td>0.0</td>\n",
       "      <td>0.0</td>\n",
       "      <td>0.0</td>\n",
       "      <td>0.0</td>\n",
       "      <td>0.0</td>\n",
       "      <td>0.0</td>\n",
       "      <td>1.0</td>\n",
       "      <td>0.0</td>\n",
       "    </tr>\n",
       "    <tr>\n",
       "      <th>4</th>\n",
       "      <td>-0.020376</td>\n",
       "      <td>-0.030263</td>\n",
       "      <td>-0.012674</td>\n",
       "      <td>-0.064376</td>\n",
       "      <td>-0.037661</td>\n",
       "      <td>-0.041278</td>\n",
       "      <td>-0.548926</td>\n",
       "      <td>-0.046375</td>\n",
       "      <td>0.026403</td>\n",
       "      <td>0.026021</td>\n",
       "      <td>...</td>\n",
       "      <td>0.0</td>\n",
       "      <td>0.0</td>\n",
       "      <td>0.0</td>\n",
       "      <td>0.0</td>\n",
       "      <td>0.0</td>\n",
       "      <td>0.0</td>\n",
       "      <td>0.0</td>\n",
       "      <td>0.0</td>\n",
       "      <td>1.0</td>\n",
       "      <td>0.0</td>\n",
       "    </tr>\n",
       "  </tbody>\n",
       "</table>\n",
       "<p>5 rows × 51 columns</p>\n",
       "</div>"
      ],
      "text/plain": [
       "         0         1         2         3         4         5         6   \\\n",
       "0 -0.031483 -0.039094 -0.125981 -0.056074 -0.032077 -0.043400 -0.126706   \n",
       "1  0.002199  0.048480  0.423362 -0.062357 -0.004186 -0.018849 -0.004204   \n",
       "2 -0.053438 -0.061954 -0.137045 -0.063257 -0.036491 -0.038913  0.906410   \n",
       "3 -0.049886 -0.053419 -0.090425 -0.061182 -0.024828 -0.028935 -0.196298   \n",
       "4 -0.020376 -0.030263 -0.012674 -0.064376 -0.037661 -0.041278 -0.548926   \n",
       "\n",
       "         7         8         9   ...   41   42   43   44   45   46   47   48  \\\n",
       "0 -0.044158  0.026440  0.025998  ...  0.0  0.0  0.0  0.0  0.0  0.0  0.0  0.0   \n",
       "1 -0.028059  0.026649  0.026180  ...  0.0  0.0  0.0  0.0  0.0  1.0  0.0  0.0   \n",
       "2 -0.044885  0.026437  0.026115  ...  0.0  0.0  0.0  0.0  0.0  0.0  1.0  0.0   \n",
       "3 -0.035643  0.026481  0.026103  ...  0.0  0.0  0.0  0.0  0.0  0.0  0.0  0.0   \n",
       "4 -0.046375  0.026403  0.026021  ...  0.0  0.0  0.0  0.0  0.0  0.0  0.0  0.0   \n",
       "\n",
       "    49   50  \n",
       "0  1.0  0.0  \n",
       "1  0.0  0.0  \n",
       "2  0.0  0.0  \n",
       "3  1.0  0.0  \n",
       "4  1.0  0.0  \n",
       "\n",
       "[5 rows x 51 columns]"
      ]
     },
     "execution_count": 50,
     "metadata": {},
     "output_type": "execute_result"
    }
   ],
   "source": [
    "pd.DataFrame(X_train_prepared).head()"
   ]
  },
  {
   "cell_type": "code",
   "execution_count": 53,
   "id": "bef9a3cd",
   "metadata": {},
   "outputs": [],
   "source": [
    "ada_clf=AdaBoostClassifier(\n",
    "DecisionTreeClassifier(max_depth=1), n_estimators=200, algorithm=\"SAMME.R\", learning_rate=0.5\n",
    ")"
   ]
  },
  {
   "cell_type": "code",
   "execution_count": 55,
   "id": "fb71bc38",
   "metadata": {},
   "outputs": [],
   "source": [
    "models = {\n",
    "    'NB' : GaussianNB(),\n",
    "    'xgboost' : XGBClassifier(),\n",
    "    'AdaBoost' : ada_clf,\n",
    "    'gradient boosting' : GradientBoostingClassifier(),\n",
    "    'Logistic regression' : LogisticRegression(),\n",
    "    'random forest' : RandomForestClassifier(),\n",
    "    'Decision Tree' : DecisionTreeClassifier(),\n",
    "    'SVM': LinearSVC(),\n",
    "    'knn' : KNeighborsClassifier(n_neighbors = 4)\n",
    "}"
   ]
  },
  {
   "cell_type": "code",
   "execution_count": 58,
   "id": "7daf08e1",
   "metadata": {},
   "outputs": [
    {
     "name": "stderr",
     "output_type": "stream",
     "text": [
      "C:\\Users\\Setar\\anaconda3\\lib\\site-packages\\sklearn\\model_selection\\_split.py:666: UserWarning: The least populated class in y has only 2 members, which is less than n_splits=5.\n",
      "  warnings.warn((\"The least populated class in y has only %d\"\n",
      "C:\\Users\\Setar\\anaconda3\\lib\\site-packages\\xgboost\\sklearn.py:1224: UserWarning: The use of label encoder in XGBClassifier is deprecated and will be removed in a future release. To remove this warning, do the following: 1) Pass option use_label_encoder=False when constructing XGBClassifier object; and 2) Encode your labels (y) as integers starting with 0, i.e. 0, 1, 2, ..., [num_class - 1].\n",
      "  warnings.warn(label_encoder_deprecation_msg, UserWarning)\n"
     ]
    },
    {
     "name": "stdout",
     "output_type": "stream",
     "text": [
      "NB trained\n",
      "Data shows that the mean is 0.08 and the standard deviation is 0.01\n",
      "[11:51:25] WARNING: ..\\src\\learner.cc:1115: Starting in XGBoost 1.3.0, the default evaluation metric used with the objective 'multi:softprob' was changed from 'merror' to 'mlogloss'. Explicitly set eval_metric if you'd like to restore the old behavior.\n"
     ]
    },
    {
     "name": "stderr",
     "output_type": "stream",
     "text": [
      "C:\\Users\\Setar\\anaconda3\\lib\\site-packages\\sklearn\\model_selection\\_split.py:666: UserWarning: The least populated class in y has only 2 members, which is less than n_splits=5.\n",
      "  warnings.warn((\"The least populated class in y has only %d\"\n",
      "C:\\Users\\Setar\\anaconda3\\lib\\site-packages\\xgboost\\sklearn.py:1224: UserWarning: The use of label encoder in XGBClassifier is deprecated and will be removed in a future release. To remove this warning, do the following: 1) Pass option use_label_encoder=False when constructing XGBClassifier object; and 2) Encode your labels (y) as integers starting with 0, i.e. 0, 1, 2, ..., [num_class - 1].\n",
      "  warnings.warn(label_encoder_deprecation_msg, UserWarning)\n"
     ]
    },
    {
     "name": "stdout",
     "output_type": "stream",
     "text": [
      "[11:51:26] WARNING: ..\\src\\learner.cc:1115: Starting in XGBoost 1.3.0, the default evaluation metric used with the objective 'multi:softprob' was changed from 'merror' to 'mlogloss'. Explicitly set eval_metric if you'd like to restore the old behavior.\n"
     ]
    },
    {
     "name": "stderr",
     "output_type": "stream",
     "text": [
      "C:\\Users\\Setar\\anaconda3\\lib\\site-packages\\xgboost\\sklearn.py:1224: UserWarning: The use of label encoder in XGBClassifier is deprecated and will be removed in a future release. To remove this warning, do the following: 1) Pass option use_label_encoder=False when constructing XGBClassifier object; and 2) Encode your labels (y) as integers starting with 0, i.e. 0, 1, 2, ..., [num_class - 1].\n",
      "  warnings.warn(label_encoder_deprecation_msg, UserWarning)\n"
     ]
    },
    {
     "name": "stdout",
     "output_type": "stream",
     "text": [
      "[11:51:27] WARNING: ..\\src\\learner.cc:1115: Starting in XGBoost 1.3.0, the default evaluation metric used with the objective 'multi:softprob' was changed from 'merror' to 'mlogloss'. Explicitly set eval_metric if you'd like to restore the old behavior.\n"
     ]
    },
    {
     "name": "stderr",
     "output_type": "stream",
     "text": [
      "C:\\Users\\Setar\\anaconda3\\lib\\site-packages\\xgboost\\sklearn.py:1224: UserWarning: The use of label encoder in XGBClassifier is deprecated and will be removed in a future release. To remove this warning, do the following: 1) Pass option use_label_encoder=False when constructing XGBClassifier object; and 2) Encode your labels (y) as integers starting with 0, i.e. 0, 1, 2, ..., [num_class - 1].\n",
      "  warnings.warn(label_encoder_deprecation_msg, UserWarning)\n"
     ]
    },
    {
     "name": "stdout",
     "output_type": "stream",
     "text": [
      "[11:51:28] WARNING: ..\\src\\learner.cc:1115: Starting in XGBoost 1.3.0, the default evaluation metric used with the objective 'multi:softprob' was changed from 'merror' to 'mlogloss'. Explicitly set eval_metric if you'd like to restore the old behavior.\n"
     ]
    },
    {
     "name": "stderr",
     "output_type": "stream",
     "text": [
      "C:\\Users\\Setar\\anaconda3\\lib\\site-packages\\xgboost\\sklearn.py:1224: UserWarning: The use of label encoder in XGBClassifier is deprecated and will be removed in a future release. To remove this warning, do the following: 1) Pass option use_label_encoder=False when constructing XGBClassifier object; and 2) Encode your labels (y) as integers starting with 0, i.e. 0, 1, 2, ..., [num_class - 1].\n",
      "  warnings.warn(label_encoder_deprecation_msg, UserWarning)\n"
     ]
    },
    {
     "name": "stdout",
     "output_type": "stream",
     "text": [
      "[11:51:28] WARNING: ..\\src\\learner.cc:1115: Starting in XGBoost 1.3.0, the default evaluation metric used with the objective 'multi:softprob' was changed from 'merror' to 'mlogloss'. Explicitly set eval_metric if you'd like to restore the old behavior.\n"
     ]
    },
    {
     "name": "stderr",
     "output_type": "stream",
     "text": [
      "C:\\Users\\Setar\\anaconda3\\lib\\site-packages\\xgboost\\sklearn.py:1224: UserWarning: The use of label encoder in XGBClassifier is deprecated and will be removed in a future release. To remove this warning, do the following: 1) Pass option use_label_encoder=False when constructing XGBClassifier object; and 2) Encode your labels (y) as integers starting with 0, i.e. 0, 1, 2, ..., [num_class - 1].\n",
      "  warnings.warn(label_encoder_deprecation_msg, UserWarning)\n"
     ]
    },
    {
     "name": "stdout",
     "output_type": "stream",
     "text": [
      "[11:51:29] WARNING: ..\\src\\learner.cc:1115: Starting in XGBoost 1.3.0, the default evaluation metric used with the objective 'multi:softprob' was changed from 'merror' to 'mlogloss'. Explicitly set eval_metric if you'd like to restore the old behavior.\n",
      "xgboost trained\n",
      "Data shows that the mean is 0.55 and the standard deviation is 0.02\n"
     ]
    },
    {
     "name": "stderr",
     "output_type": "stream",
     "text": [
      "C:\\Users\\Setar\\anaconda3\\lib\\site-packages\\sklearn\\model_selection\\_split.py:666: UserWarning: The least populated class in y has only 2 members, which is less than n_splits=5.\n",
      "  warnings.warn((\"The least populated class in y has only %d\"\n"
     ]
    },
    {
     "name": "stdout",
     "output_type": "stream",
     "text": [
      "AdaBoost trained\n",
      "Data shows that the mean is 0.34 and the standard deviation is 0.03\n"
     ]
    },
    {
     "name": "stderr",
     "output_type": "stream",
     "text": [
      "C:\\Users\\Setar\\anaconda3\\lib\\site-packages\\sklearn\\model_selection\\_split.py:666: UserWarning: The least populated class in y has only 2 members, which is less than n_splits=5.\n",
      "  warnings.warn((\"The least populated class in y has only %d\"\n"
     ]
    },
    {
     "name": "stdout",
     "output_type": "stream",
     "text": [
      "gradient boosting trained\n",
      "Data shows that the mean is 0.51 and the standard deviation is 0.01\n"
     ]
    },
    {
     "name": "stderr",
     "output_type": "stream",
     "text": [
      "C:\\Users\\Setar\\anaconda3\\lib\\site-packages\\sklearn\\linear_model\\_logistic.py:763: ConvergenceWarning: lbfgs failed to converge (status=1):\n",
      "STOP: TOTAL NO. of ITERATIONS REACHED LIMIT.\n",
      "\n",
      "Increase the number of iterations (max_iter) or scale the data as shown in:\n",
      "    https://scikit-learn.org/stable/modules/preprocessing.html\n",
      "Please also refer to the documentation for alternative solver options:\n",
      "    https://scikit-learn.org/stable/modules/linear_model.html#logistic-regression\n",
      "  n_iter_i = _check_optimize_result(\n",
      "C:\\Users\\Setar\\anaconda3\\lib\\site-packages\\sklearn\\model_selection\\_split.py:666: UserWarning: The least populated class in y has only 2 members, which is less than n_splits=5.\n",
      "  warnings.warn((\"The least populated class in y has only %d\"\n",
      "C:\\Users\\Setar\\anaconda3\\lib\\site-packages\\sklearn\\linear_model\\_logistic.py:763: ConvergenceWarning: lbfgs failed to converge (status=1):\n",
      "STOP: TOTAL NO. of ITERATIONS REACHED LIMIT.\n",
      "\n",
      "Increase the number of iterations (max_iter) or scale the data as shown in:\n",
      "    https://scikit-learn.org/stable/modules/preprocessing.html\n",
      "Please also refer to the documentation for alternative solver options:\n",
      "    https://scikit-learn.org/stable/modules/linear_model.html#logistic-regression\n",
      "  n_iter_i = _check_optimize_result(\n",
      "C:\\Users\\Setar\\anaconda3\\lib\\site-packages\\sklearn\\linear_model\\_logistic.py:763: ConvergenceWarning: lbfgs failed to converge (status=1):\n",
      "STOP: TOTAL NO. of ITERATIONS REACHED LIMIT.\n",
      "\n",
      "Increase the number of iterations (max_iter) or scale the data as shown in:\n",
      "    https://scikit-learn.org/stable/modules/preprocessing.html\n",
      "Please also refer to the documentation for alternative solver options:\n",
      "    https://scikit-learn.org/stable/modules/linear_model.html#logistic-regression\n",
      "  n_iter_i = _check_optimize_result(\n",
      "C:\\Users\\Setar\\anaconda3\\lib\\site-packages\\sklearn\\linear_model\\_logistic.py:763: ConvergenceWarning: lbfgs failed to converge (status=1):\n",
      "STOP: TOTAL NO. of ITERATIONS REACHED LIMIT.\n",
      "\n",
      "Increase the number of iterations (max_iter) or scale the data as shown in:\n",
      "    https://scikit-learn.org/stable/modules/preprocessing.html\n",
      "Please also refer to the documentation for alternative solver options:\n",
      "    https://scikit-learn.org/stable/modules/linear_model.html#logistic-regression\n",
      "  n_iter_i = _check_optimize_result(\n",
      "C:\\Users\\Setar\\anaconda3\\lib\\site-packages\\sklearn\\linear_model\\_logistic.py:763: ConvergenceWarning: lbfgs failed to converge (status=1):\n",
      "STOP: TOTAL NO. of ITERATIONS REACHED LIMIT.\n",
      "\n",
      "Increase the number of iterations (max_iter) or scale the data as shown in:\n",
      "    https://scikit-learn.org/stable/modules/preprocessing.html\n",
      "Please also refer to the documentation for alternative solver options:\n",
      "    https://scikit-learn.org/stable/modules/linear_model.html#logistic-regression\n",
      "  n_iter_i = _check_optimize_result(\n",
      "C:\\Users\\Setar\\anaconda3\\lib\\site-packages\\sklearn\\linear_model\\_logistic.py:763: ConvergenceWarning: lbfgs failed to converge (status=1):\n",
      "STOP: TOTAL NO. of ITERATIONS REACHED LIMIT.\n",
      "\n",
      "Increase the number of iterations (max_iter) or scale the data as shown in:\n",
      "    https://scikit-learn.org/stable/modules/preprocessing.html\n",
      "Please also refer to the documentation for alternative solver options:\n",
      "    https://scikit-learn.org/stable/modules/linear_model.html#logistic-regression\n",
      "  n_iter_i = _check_optimize_result(\n"
     ]
    },
    {
     "name": "stdout",
     "output_type": "stream",
     "text": [
      "Logistic regression trained\n",
      "Data shows that the mean is 0.42 and the standard deviation is 0.02\n"
     ]
    },
    {
     "name": "stderr",
     "output_type": "stream",
     "text": [
      "C:\\Users\\Setar\\anaconda3\\lib\\site-packages\\sklearn\\model_selection\\_split.py:666: UserWarning: The least populated class in y has only 2 members, which is less than n_splits=5.\n",
      "  warnings.warn((\"The least populated class in y has only %d\"\n"
     ]
    },
    {
     "name": "stdout",
     "output_type": "stream",
     "text": [
      "random forest trained\n",
      "Data shows that the mean is 0.56 and the standard deviation is 0.03\n",
      "Decision Tree trained\n",
      "Data shows that the mean is 0.42 and the standard deviation is 0.02\n"
     ]
    },
    {
     "name": "stderr",
     "output_type": "stream",
     "text": [
      "C:\\Users\\Setar\\anaconda3\\lib\\site-packages\\sklearn\\model_selection\\_split.py:666: UserWarning: The least populated class in y has only 2 members, which is less than n_splits=5.\n",
      "  warnings.warn((\"The least populated class in y has only %d\"\n",
      "C:\\Users\\Setar\\anaconda3\\lib\\site-packages\\sklearn\\svm\\_base.py:985: ConvergenceWarning: Liblinear failed to converge, increase the number of iterations.\n",
      "  warnings.warn(\"Liblinear failed to converge, increase \"\n",
      "C:\\Users\\Setar\\anaconda3\\lib\\site-packages\\sklearn\\model_selection\\_split.py:666: UserWarning: The least populated class in y has only 2 members, which is less than n_splits=5.\n",
      "  warnings.warn((\"The least populated class in y has only %d\"\n",
      "C:\\Users\\Setar\\anaconda3\\lib\\site-packages\\sklearn\\svm\\_base.py:985: ConvergenceWarning: Liblinear failed to converge, increase the number of iterations.\n",
      "  warnings.warn(\"Liblinear failed to converge, increase \"\n",
      "C:\\Users\\Setar\\anaconda3\\lib\\site-packages\\sklearn\\svm\\_base.py:985: ConvergenceWarning: Liblinear failed to converge, increase the number of iterations.\n",
      "  warnings.warn(\"Liblinear failed to converge, increase \"\n",
      "C:\\Users\\Setar\\anaconda3\\lib\\site-packages\\sklearn\\svm\\_base.py:985: ConvergenceWarning: Liblinear failed to converge, increase the number of iterations.\n",
      "  warnings.warn(\"Liblinear failed to converge, increase \"\n",
      "C:\\Users\\Setar\\anaconda3\\lib\\site-packages\\sklearn\\svm\\_base.py:985: ConvergenceWarning: Liblinear failed to converge, increase the number of iterations.\n",
      "  warnings.warn(\"Liblinear failed to converge, increase \"\n"
     ]
    },
    {
     "name": "stdout",
     "output_type": "stream",
     "text": [
      "SVM trained\n",
      "Data shows that the mean is 0.40 and the standard deviation is 0.02\n",
      "knn trained\n",
      "Data shows that the mean is 0.39 and the standard deviation is 0.03\n"
     ]
    },
    {
     "name": "stderr",
     "output_type": "stream",
     "text": [
      "C:\\Users\\Setar\\anaconda3\\lib\\site-packages\\sklearn\\svm\\_base.py:985: ConvergenceWarning: Liblinear failed to converge, increase the number of iterations.\n",
      "  warnings.warn(\"Liblinear failed to converge, increase \"\n",
      "C:\\Users\\Setar\\anaconda3\\lib\\site-packages\\sklearn\\model_selection\\_split.py:666: UserWarning: The least populated class in y has only 2 members, which is less than n_splits=5.\n",
      "  warnings.warn((\"The least populated class in y has only %d\"\n"
     ]
    }
   ],
   "source": [
    "results = {}\n",
    "for name, model in models.items():\n",
    "    model.fit(X_train_prepared, y_train)\n",
    "    scores = cross_val_score(model, X_train_prepared, y_train, scoring = 'accuracy', cv=5)\n",
    "    results[name] = round(np.mean(scores),3)\n",
    "\n",
    "    print(f'{name} trained')\n",
    "    print(\"Data shows that the mean is %0.2f and the standard deviation is %0.2f\" % (scores.mean(), scores.std()))"
   ]
  },
  {
   "cell_type": "code",
   "execution_count": 59,
   "id": "1ba2ae86",
   "metadata": {},
   "outputs": [
    {
     "data": {
      "text/plain": [
       "{'NB': 0.081,\n",
       " 'xgboost': 0.553,\n",
       " 'AdaBoost': 0.341,\n",
       " 'gradient boosting': 0.514,\n",
       " 'Logistic regression': 0.419,\n",
       " 'random forest': 0.559,\n",
       " 'Decision Tree': 0.421,\n",
       " 'SVM': 0.404,\n",
       " 'knn': 0.386}"
      ]
     },
     "execution_count": 59,
     "metadata": {},
     "output_type": "execute_result"
    }
   ],
   "source": [
    "results"
   ]
  },
  {
   "cell_type": "code",
   "execution_count": 60,
   "id": "d0b9dbc5",
   "metadata": {},
   "outputs": [
    {
     "data": {
      "text/html": [
       "<div>\n",
       "<style scoped>\n",
       "    .dataframe tbody tr th:only-of-type {\n",
       "        vertical-align: middle;\n",
       "    }\n",
       "\n",
       "    .dataframe tbody tr th {\n",
       "        vertical-align: top;\n",
       "    }\n",
       "\n",
       "    .dataframe thead th {\n",
       "        text-align: right;\n",
       "    }\n",
       "</style>\n",
       "<table border=\"1\" class=\"dataframe\">\n",
       "  <thead>\n",
       "    <tr style=\"text-align: right;\">\n",
       "      <th></th>\n",
       "      <th>Accuracy</th>\n",
       "    </tr>\n",
       "  </thead>\n",
       "  <tbody>\n",
       "    <tr>\n",
       "      <th>random forest</th>\n",
       "      <td>0.559</td>\n",
       "    </tr>\n",
       "    <tr>\n",
       "      <th>xgboost</th>\n",
       "      <td>0.553</td>\n",
       "    </tr>\n",
       "    <tr>\n",
       "      <th>gradient boosting</th>\n",
       "      <td>0.514</td>\n",
       "    </tr>\n",
       "    <tr>\n",
       "      <th>Decision Tree</th>\n",
       "      <td>0.421</td>\n",
       "    </tr>\n",
       "    <tr>\n",
       "      <th>Logistic regression</th>\n",
       "      <td>0.419</td>\n",
       "    </tr>\n",
       "    <tr>\n",
       "      <th>SVM</th>\n",
       "      <td>0.404</td>\n",
       "    </tr>\n",
       "    <tr>\n",
       "      <th>knn</th>\n",
       "      <td>0.386</td>\n",
       "    </tr>\n",
       "    <tr>\n",
       "      <th>AdaBoost</th>\n",
       "      <td>0.341</td>\n",
       "    </tr>\n",
       "    <tr>\n",
       "      <th>NB</th>\n",
       "      <td>0.081</td>\n",
       "    </tr>\n",
       "  </tbody>\n",
       "</table>\n",
       "</div>"
      ],
      "text/plain": [
       "                     Accuracy\n",
       "random forest           0.559\n",
       "xgboost                 0.553\n",
       "gradient boosting       0.514\n",
       "Decision Tree           0.421\n",
       "Logistic regression     0.419\n",
       "SVM                     0.404\n",
       "knn                     0.386\n",
       "AdaBoost                0.341\n",
       "NB                      0.081"
      ]
     },
     "execution_count": 60,
     "metadata": {},
     "output_type": "execute_result"
    }
   ],
   "source": [
    "results_df = pd.DataFrame(results, index=range(0,1)).T.rename(columns={0: 'Accuracy'}).sort_values('Accuracy', ascending=False)\n",
    "results_df"
   ]
  },
  {
   "cell_type": "code",
   "execution_count": 61,
   "id": "d01d24a7",
   "metadata": {},
   "outputs": [
    {
     "data": {
      "image/png": "[encoded data removed]",
      "text/plain": [
       "<Figure size 1440x432 with 1 Axes>"
      ]
     },
     "metadata": {
      "needs_background": "light"
     },
     "output_type": "display_data"
    }
   ],
   "source": [
    "plt.figure(figsize = (20, 6))\n",
    "sns.barplot(x= results_df.index, y = results_df['Accuracy'], palette = 'winter')\n",
    "plt.xlabel('Model')\n",
    "plt.ylabel('Accuracy')\n",
    "plt.title('Accuracy of different models');"
   ]
  },
  {
   "cell_type": "code",
   "execution_count": 62,
   "id": "74ee4ef6",
   "metadata": {},
   "outputs": [],
   "source": [
    "RSME_Test={}\n",
    "\n",
    "for name , model in models.items():\n",
    "    Res=accuracy_score(y_test, model.predict(full_pipe.transform(X_test)))\n",
    "    RSME_Test[name]=round(Res,3)"
   ]
  },
  {
   "cell_type": "code",
   "execution_count": 63,
   "id": "934c7206",
   "metadata": {},
   "outputs": [
    {
     "data": {
      "text/plain": [
       "{'NB': 0.096,\n",
       " 'xgboost': 0.576,\n",
       " 'AdaBoost': 0.325,\n",
       " 'gradient boosting': 0.534,\n",
       " 'Logistic regression': 0.387,\n",
       " 'random forest': 0.547,\n",
       " 'Decision Tree': 0.372,\n",
       " 'SVM': 0.389,\n",
       " 'knn': 0.36}"
      ]
     },
     "execution_count": 63,
     "metadata": {},
     "output_type": "execute_result"
    }
   ],
   "source": [
    "RSME_Test"
   ]
  },
  {
   "cell_type": "code",
   "execution_count": 66,
   "id": "7aeb4972",
   "metadata": {},
   "outputs": [
    {
     "data": {
      "text/html": [
       "<div>\n",
       "<style scoped>\n",
       "    .dataframe tbody tr th:only-of-type {\n",
       "        vertical-align: middle;\n",
       "    }\n",
       "\n",
       "    .dataframe tbody tr th {\n",
       "        vertical-align: top;\n",
       "    }\n",
       "\n",
       "    .dataframe thead th {\n",
       "        text-align: right;\n",
       "    }\n",
       "</style>\n",
       "<table border=\"1\" class=\"dataframe\">\n",
       "  <thead>\n",
       "    <tr style=\"text-align: right;\">\n",
       "      <th></th>\n",
       "      <th>Accuracy</th>\n",
       "    </tr>\n",
       "  </thead>\n",
       "  <tbody>\n",
       "    <tr>\n",
       "      <th>xgboost</th>\n",
       "      <td>0.576</td>\n",
       "    </tr>\n",
       "    <tr>\n",
       "      <th>random forest</th>\n",
       "      <td>0.547</td>\n",
       "    </tr>\n",
       "    <tr>\n",
       "      <th>gradient boosting</th>\n",
       "      <td>0.534</td>\n",
       "    </tr>\n",
       "    <tr>\n",
       "      <th>SVM</th>\n",
       "      <td>0.389</td>\n",
       "    </tr>\n",
       "    <tr>\n",
       "      <th>Logistic regression</th>\n",
       "      <td>0.387</td>\n",
       "    </tr>\n",
       "    <tr>\n",
       "      <th>Decision Tree</th>\n",
       "      <td>0.372</td>\n",
       "    </tr>\n",
       "    <tr>\n",
       "      <th>knn</th>\n",
       "      <td>0.360</td>\n",
       "    </tr>\n",
       "    <tr>\n",
       "      <th>AdaBoost</th>\n",
       "      <td>0.325</td>\n",
       "    </tr>\n",
       "    <tr>\n",
       "      <th>NB</th>\n",
       "      <td>0.096</td>\n",
       "    </tr>\n",
       "  </tbody>\n",
       "</table>\n",
       "</div>"
      ],
      "text/plain": [
       "                     Accuracy\n",
       "xgboost                 0.576\n",
       "random forest           0.547\n",
       "gradient boosting       0.534\n",
       "SVM                     0.389\n",
       "Logistic regression     0.387\n",
       "Decision Tree           0.372\n",
       "knn                     0.360\n",
       "AdaBoost                0.325\n",
       "NB                      0.096"
      ]
     },
     "execution_count": 66,
     "metadata": {},
     "output_type": "execute_result"
    }
   ],
   "source": [
    "test_df = pd.DataFrame(RSME_Test, index=range(0,1)).T.rename(columns={0: 'Accuracy'}).sort_values('Accuracy', ascending=False)\n",
    "test_df"
   ]
  },
  {
   "cell_type": "code",
   "execution_count": 65,
   "id": "3b98f426",
   "metadata": {},
   "outputs": [
    {
     "data": {
      "image/png": "[encoded data removed]",
      "text/plain": [
       "<Figure size 1440x432 with 1 Axes>"
      ]
     },
     "metadata": {
      "needs_background": "light"
     },
     "output_type": "display_data"
    }
   ],
   "source": [
    "plt.figure(figsize = (20, 6))\n",
    "sns.barplot(x= test_df.index, y = test_df['Accuracy'], palette = 'winter')\n",
    "plt.xlabel('Model')\n",
    "plt.ylabel('Accuracy')\n",
    "plt.title('Accuracy of different test models');"
   ]
  },
  {
   "cell_type": "code",
   "execution_count": 71,
   "id": "f1093f78",
   "metadata": {},
   "outputs": [
    {
     "name": "stderr",
     "output_type": "stream",
     "text": [
      "C:\\Users\\Setar\\anaconda3\\lib\\site-packages\\sklearn\\model_selection\\_split.py:666: UserWarning: The least populated class in y has only 2 members, which is less than n_splits=5.\n",
      "  warnings.warn((\"The least populated class in y has only %d\"\n"
     ]
    },
    {
     "data": {
      "text/plain": [
       "GridSearchCV(cv=5, estimator=RandomForestClassifier(),\n",
       "             param_grid=[{'max_features': [2, 4, 6, 8],\n",
       "                          'n_estimators': [10, 30, 40, 50, 70]},\n",
       "                         {'bootstrap': [False], 'max_features': [2, 3, 4],\n",
       "                          'n_estimators': [3, 10]}])"
      ]
     },
     "execution_count": 71,
     "metadata": {},
     "output_type": "execute_result"
    }
   ],
   "source": [
    "from sklearn.model_selection import GridSearchCV\n",
    "forest_clf = RandomForestClassifier()\n",
    "\n",
    "param_grid = [\n",
    " {'n_estimators': [ 10, 30, 40, 50, 70], 'max_features': [2, 4, 6, 8]},\n",
    " {'bootstrap': [False], 'n_estimators': [3, 10], 'max_features': [2, 3, 4]},\n",
    " ]\n",
    "\n",
    "grid_search = GridSearchCV(forest_clf, param_grid, cv=5)\n",
    "grid_search.fit(X_train_prepared, y_train)"
   ]
  },
  {
   "cell_type": "code",
   "execution_count": 72,
   "id": "365fa071",
   "metadata": {},
   "outputs": [
    {
     "data": {
      "text/plain": [
       "RandomForestClassifier(max_features=6, n_estimators=30)"
      ]
     },
     "execution_count": 72,
     "metadata": {},
     "output_type": "execute_result"
    }
   ],
   "source": [
    "grid_search.best_estimator_"
   ]
  },
  {
   "cell_type": "code",
   "execution_count": 79,
   "id": "9b866a19",
   "metadata": {},
   "outputs": [
    {
     "name": "stdout",
     "output_type": "stream",
     "text": [
      "Rating Agency Name 0.03\n",
      "Sector 0.04\n",
      "currentRatio 0.04\n",
      "quickRatio 0.03\n",
      "cashRatio 0.04\n",
      "daysOfSalesOutstanding 0.04\n",
      "netProfitMargin 0.03\n",
      "pretaxProfitMargin 0.03\n",
      "grossProfitMargin 0.04\n",
      "operatingProfitMargin 0.05\n",
      "returnOnAssets 0.04\n",
      "returnOnCapitalEmployed 0.03\n",
      "returnOnEquity 0.03\n",
      "assetTurnover 0.03\n",
      "fixedAssetTurnover 0.04\n",
      "debtEquityRatio 0.03\n",
      "debtRatio 0.03\n",
      "effectiveTaxRate 0.03\n",
      "freeCashFlowOperatingCashFlowRatio 0.04\n",
      "freeCashFlowPerShare 0.04\n",
      "cashPerShare 0.04\n",
      "companyEquityMultiplier 0.03\n",
      "ebitPerRevenue 0.05\n",
      "enterpriseValueMultiple 0.04\n",
      "operatingCashFlowPerShare 0.03\n",
      "operatingCashFlowSalesRatio 0.0\n",
      "payablesTurnover 0.01\n",
      "Year 0.0\n"
     ]
    }
   ],
   "source": [
    "forest_clf_opt= RandomForestClassifier()\n",
    "forest_clf_opt.fit(X_train_prepared, y_train)\n",
    "for name, score in zip(list(X_train), forest_clf_opt.feature_importances_):\n",
    "    print(name, round(score,2))"
   ]
  },
  {
   "cell_type": "code",
   "execution_count": null,
   "id": "fe58c034",
   "metadata": {},
   "outputs": [],
   "source": [
    "y_pred = forest_clf_opt.predict(full_pipe.transform(X_test))\n",
    "accuracy_score(y_test, y_pred)"
   ]
  },
  {
   "cell_type": "code",
   "execution_count": 76,
   "id": "98f0d089",
   "metadata": {},
   "outputs": [
    {
     "data": {
      "text/plain": [
       "array([[44,  0,  0,  0,  6, 22,  0,  0,  0],\n",
       "       [ 8,  5,  0,  1,  1,  5,  0,  0,  0],\n",
       "       [ 1,  1,  1,  0,  1,  0,  0,  0,  0],\n",
       "       [ 0,  0,  0, 19, 17, 22,  0,  1,  0],\n",
       "       [ 3,  0,  0, 10, 48, 39,  0,  0,  0],\n",
       "       [14,  0,  0,  2, 21, 98,  0,  0,  0],\n",
       "       [ 0,  0,  0,  1,  0,  0,  0,  0,  0],\n",
       "       [ 0,  0,  0,  9,  3,  0,  0,  2,  0],\n",
       "       [ 0,  0,  0,  0,  1,  0,  0,  0,  0]], dtype=int64)"
      ]
     },
     "execution_count": 76,
     "metadata": {},
     "output_type": "execute_result"
    }
   ],
   "source": [
    "confusion_matrix(y_test, y_pred)"
   ]
  },
  {
   "cell_type": "code",
   "execution_count": null,
   "id": "67776890",
   "metadata": {},
   "outputs": [],
   "source": []
  }
 ],
 "metadata": {
  "kernelspec": {
   "display_name": "Python 3 (ipykernel)",
   "language": "python",
   "name": "python3"
  },
  "language_info": {
   "codemirror_mode": {
    "name": "ipython",
    "version": 3
   },
   "file_extension": ".py",
   "mimetype": "text/x-python",
   "name": "python",
   "nbconvert_exporter": "python",
   "pygments_lexer": "ipython3",
   "version": "3.9.7"
  }
 },
 "nbformat": 4,
 "nbformat_minor": 5
}
